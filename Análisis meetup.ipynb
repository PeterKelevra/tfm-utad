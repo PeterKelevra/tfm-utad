{
 "cells": [
  {
   "cell_type": "markdown",
   "metadata": {},
   "source": [
    "# Predicción número de asistentes"
   ]
  },
  {
   "cell_type": "code",
   "execution_count": 1,
   "metadata": {
    "collapsed": true
   },
   "outputs": [],
   "source": [
    "import matplotlib.pyplot as plt\n",
    "import scipy.stats\n",
    "import seaborn as sns\n",
    "import pandas as pd\n",
    "import pylab\n",
    "import plotly.plotly as py\n",
    "import plotly.graph_objs as go\n",
    "%matplotlib inline\n",
    "%config InlineBackend.figure_formats=['svg']\n",
    "\n",
    "\n",
    "mc_data = pd.read_csv('./rf-100-200k.csv', sep =',', index_col=False)\n"
   ]
  },
  {
   "cell_type": "code",
   "execution_count": 2,
   "metadata": {
    "collapsed": false
   },
   "outputs": [
    {
     "data": {
      "text/html": [
       "<iframe id=\"igraph\" scrolling=\"no\" style=\"border:none;\" seamless=\"seamless\" src=\"https://plot.ly/~emilio.martin/129.embed\" height=\"525px\" width=\"100%\"></iframe>"
      ],
      "text/plain": [
       "<plotly.tools.PlotlyDisplay object>"
      ]
     },
     "execution_count": 2,
     "metadata": {},
     "output_type": "execute_result"
    }
   ],
   "source": [
    "pylab.rcParams['figure.figsize'] = (10.0, 5.0)\n",
    "mc_data = mc_data.sample(frac=0.1)\n",
    "real = mc_data[\"X\"]\n",
    "predicted = mc_data[\"Y\"]\n",
    "\n",
    "\n",
    "trace = go.Scattergl(\n",
    "    x = real,\n",
    "    y = predicted,\n",
    "    mode = 'markers',\n",
    "    name = 'prediccion'\n",
    ")\n",
    "\n",
    "perfect = go.Scattergl(\n",
    "    x = real,\n",
    "    y = real,\n",
    "    name = 'real',\n",
    "    line= dict(\n",
    "        color = ('rgb(0, 0, 0)'),\n",
    "        width = 4,\n",
    "        dash = 'dash')\n",
    ")\n",
    "\n",
    "\n",
    "layout= go.Layout(\n",
    "    title= 'Predicción de eventos con RF(100 árboles)',    \n",
    "    xaxis= dict(\n",
    "        title= 'real',           \n",
    "    ),\n",
    "    yaxis=dict(\n",
    "        title= 'predicción',        \n",
    "    ),\n",
    "    showlegend= False\n",
    ")\n",
    "\n",
    "data = [trace, perfect]\n",
    "\n",
    "# Plot and embed in ipython notebook!\n",
    "fig= go.Figure(data=data, layout=layout)\n",
    "py.iplot(fig)\n",
    "\n"
   ]
  },
  {
   "cell_type": "code",
   "execution_count": 5,
   "metadata": {
    "collapsed": false
   },
   "outputs": [
    {
     "data": {
      "text/html": [
       "<iframe id=\"igraph\" scrolling=\"no\" style=\"border:none;\" seamless=\"seamless\" src=\"https://plot.ly/~emilio.martin/133.embed\" height=\"525px\" width=\"100%\"></iframe>"
      ],
      "text/plain": [
       "<plotly.tools.PlotlyDisplay object>"
      ]
     },
     "execution_count": 5,
     "metadata": {},
     "output_type": "execute_result"
    }
   ],
   "source": [
    "\n",
    "mc_data = pd.read_csv('./prediction-10.csv', sep =',', index_col=False)\n",
    "pylab.rcParams['figure.figsize'] = (10.0, 5.0)\n",
    "#mc_data = mc_data.sample(frac=0.1)\n",
    "real = mc_data[\"X\"]\n",
    "predicted = mc_data[\"Y\"]\n",
    "\n",
    "\n",
    "trace = go.Scattergl(\n",
    "    x = real,\n",
    "    y = predicted,\n",
    "    mode = 'markers',\n",
    "    name = 'prediccion'\n",
    ")\n",
    "\n",
    "perfect = go.Scattergl(\n",
    "    x = real,\n",
    "    y = real,\n",
    "    name = 'real',\n",
    "    line= dict(\n",
    "        color = ('rgb(0, 0, 0)'),\n",
    "        width = 4,\n",
    "        dash = 'dash')\n",
    ")\n",
    "\n",
    "\n",
    "layout= go.Layout(\n",
    "    title= 'Predicción de eventos con RF(100 árboles)',    \n",
    "    xaxis= dict(\n",
    "        title= 'real',           \n",
    "    ),\n",
    "    yaxis=dict(\n",
    "        title= 'predicción',        \n",
    "    ),\n",
    "    showlegend= False\n",
    ")\n",
    "\n",
    "data = [trace, perfect]\n",
    "\n",
    "# Plot and embed in ipython notebook!\n",
    "fig= go.Figure(data=data, layout=layout)\n",
    "py.iplot(fig)\n"
   ]
  },
  {
   "cell_type": "markdown",
   "metadata": {},
   "source": [
    "# Análisis cluster"
   ]
  },
  {
   "cell_type": "code",
   "execution_count": 4,
   "metadata": {
    "collapsed": false,
    "scrolled": false
   },
   "outputs": [
    {
     "ename": "ImportError",
     "evalue": "No module named wordcloud",
     "output_type": "error",
     "traceback": [
      "\u001b[0;31m---------------------------------------------------------------------------\u001b[0m",
      "\u001b[0;31mImportError\u001b[0m                               Traceback (most recent call last)",
      "\u001b[0;32m<ipython-input-4-6a0abffe6b99>\u001b[0m in \u001b[0;36m<module>\u001b[0;34m()\u001b[0m\n\u001b[1;32m      8\u001b[0m \u001b[0;32mfrom\u001b[0m \u001b[0mos\u001b[0m \u001b[0;32mimport\u001b[0m \u001b[0mpath\u001b[0m\u001b[0;34m\u001b[0m\u001b[0m\n\u001b[1;32m      9\u001b[0m \u001b[0;32mimport\u001b[0m \u001b[0mmatplotlib\u001b[0m\u001b[0;34m.\u001b[0m\u001b[0mpyplot\u001b[0m \u001b[0;32mas\u001b[0m \u001b[0mplt\u001b[0m\u001b[0;34m\u001b[0m\u001b[0m\n\u001b[0;32m---> 10\u001b[0;31m \u001b[0;32mfrom\u001b[0m \u001b[0mwordcloud\u001b[0m \u001b[0;32mimport\u001b[0m \u001b[0mWordCloud\u001b[0m\u001b[0;34m,\u001b[0m \u001b[0mSTOPWORDS\u001b[0m\u001b[0;34m\u001b[0m\u001b[0m\n\u001b[0m\u001b[1;32m     11\u001b[0m \u001b[0;34m\u001b[0m\u001b[0m\n\u001b[1;32m     12\u001b[0m \u001b[0mcluster_data\u001b[0m \u001b[0;34m=\u001b[0m \u001b[0mpd\u001b[0m\u001b[0;34m.\u001b[0m\u001b[0mread_csv\u001b[0m\u001b[0;34m(\u001b[0m\u001b[0;34m'./cluster-topics.csv'\u001b[0m\u001b[0;34m,\u001b[0m \u001b[0msep\u001b[0m \u001b[0;34m=\u001b[0m\u001b[0;34m','\u001b[0m\u001b[0;34m,\u001b[0m \u001b[0mindex_col\u001b[0m\u001b[0;34m=\u001b[0m\u001b[0mFalse\u001b[0m\u001b[0;34m)\u001b[0m\u001b[0;34m\u001b[0m\u001b[0m\n",
      "\u001b[0;31mImportError\u001b[0m: No module named wordcloud"
     ]
    }
   ],
   "source": [
    "%matplotlib inline\n",
    "%config InlineBackend.figure_formats=['svg']\n",
    "import matplotlib.pyplot as plt\n",
    "import scipy.stats\n",
    "import seaborn as sns\n",
    "import pandas as pd\n",
    "import pylab\n",
    "from os import path\n",
    "import matplotlib.pyplot as plt\n",
    "from wordcloud import WordCloud, STOPWORDS\n",
    "\n",
    "cluster_data = pd.read_csv('./cluster-topics.csv', sep =',', index_col=False)\n",
    "for idC in cluster_data.clusterId.unique():   \n",
    "    data = cluster_data[cluster_data['clusterId'] == idC]\n",
    "    words = ' '.join(data['topics'])    \n",
    "    wordcloud = WordCloud(max_font_size=50, relative_scaling=0.5, background_color='white', stopwords={'self', 'and', 'group'} ).generate(words)\n",
    "    name = 'Cluster-'+ str(idC)\n",
    "   # plt.title(name)    \n",
    "    plt.imshow(wordcloud)\n",
    "    plt.axis(\"off\")    \n",
    "    #plt.show()    \n",
    "    #para guardar las imágenes\n",
    "    plt.savefig(name +\".svg\", format='svg', bbox_inches='tight')\n"
   ]
  },
  {
   "cell_type": "code",
   "execution_count": null,
   "metadata": {
    "collapsed": true
   },
   "outputs": [],
   "source": []
  }
 ],
 "metadata": {
  "anaconda-cloud": {},
  "kernelspec": {
   "display_name": "Python 2",
   "language": "python",
   "name": "python2"
  },
  "language_info": {
   "codemirror_mode": {
    "name": "ipython",
    "version": 2
   },
   "file_extension": ".py",
   "mimetype": "text/x-python",
   "name": "python",
   "nbconvert_exporter": "python",
   "pygments_lexer": "ipython2",
   "version": "2.7.11"
  }
 },
 "nbformat": 4,
 "nbformat_minor": 0
}
